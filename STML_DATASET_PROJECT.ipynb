{
  "cells": [
    {
      "cell_type": "markdown",
      "metadata": {
        "id": "view-in-github",
        "colab_type": "text"
      },
      "source": [
        "<a href=\"https://colab.research.google.com/github/PrashanthiThirunahari/STAT_ML_B50_2495/blob/main/STML_DATASET_PROJECT.ipynb\" target=\"_parent\"><img src=\"https://colab.research.google.com/assets/colab-badge.svg\" alt=\"Open In Colab\"/></a>"
      ]
    },
    {
      "cell_type": "code",
      "source": [
        "!pip install pandas"
      ],
      "metadata": {
        "colab": {
          "base_uri": "https://localhost:8080/"
        },
        "id": "Jsw0Fu2cur3G",
        "outputId": "fe69e31c-92c9-41a5-e87b-91a8902a4a28"
      },
      "execution_count": null,
      "outputs": [
        {
          "output_type": "stream",
          "name": "stdout",
          "text": [
            "Requirement already satisfied: pandas in /usr/local/lib/python3.10/dist-packages (2.2.2)\n",
            "Requirement already satisfied: numpy>=1.22.4 in /usr/local/lib/python3.10/dist-packages (from pandas) (1.26.4)\n",
            "Requirement already satisfied: python-dateutil>=2.8.2 in /usr/local/lib/python3.10/dist-packages (from pandas) (2.8.2)\n",
            "Requirement already satisfied: pytz>=2020.1 in /usr/local/lib/python3.10/dist-packages (from pandas) (2024.2)\n",
            "Requirement already satisfied: tzdata>=2022.7 in /usr/local/lib/python3.10/dist-packages (from pandas) (2024.2)\n",
            "Requirement already satisfied: six>=1.5 in /usr/local/lib/python3.10/dist-packages (from python-dateutil>=2.8.2->pandas) (1.16.0)\n"
          ]
        }
      ]
    },
    {
      "cell_type": "code",
      "execution_count": null,
      "metadata": {
        "id": "MRlYwhV6hQc4"
      },
      "outputs": [],
      "source": [
        "import pandas as pd\n",
        "from sklearn.model_selection import train_test_split\n",
        "from sklearn.svm import SVC\n",
        "from sklearn.preprocessing import LabelEncoder, StandardScaler"
      ]
    },
    {
      "cell_type": "code",
      "execution_count": null,
      "metadata": {
        "id": "QIET6QvCi-6u",
        "colab": {
          "base_uri": "https://localhost:8080/"
        },
        "outputId": "61fdb66e-39fa-4a3c-9500-5bbe5f60c5ae"
      },
      "outputs": [
        {
          "output_type": "stream",
          "name": "stdout",
          "text": [
            "     Person ID  Gender  Age            Occupation  Sleep Duration  \\\n",
            "0            1    Male   27     Software Engineer             6.1   \n",
            "1            2    Male   28                Doctor             6.2   \n",
            "2            3    Male   28                Doctor             6.2   \n",
            "3            4    Male   28  Sales Representative             5.9   \n",
            "4            5    Male   28  Sales Representative             5.9   \n",
            "..         ...     ...  ...                   ...             ...   \n",
            "369        370  Female   59                 Nurse             8.1   \n",
            "370        371  Female   59                 Nurse             8.0   \n",
            "371        372  Female   59                 Nurse             8.1   \n",
            "372        373  Female   59                 Nurse             8.1   \n",
            "373        374  Female   59                 Nurse             8.1   \n",
            "\n",
            "     Quality of Sleep  Physical Activity Level  Stress Level BMI Category  \\\n",
            "0                   6                       42             6   Overweight   \n",
            "1                   6                       60             8       Normal   \n",
            "2                   6                       60             8       Normal   \n",
            "3                   4                       30             8        Obese   \n",
            "4                   4                       30             8        Obese   \n",
            "..                ...                      ...           ...          ...   \n",
            "369                 9                       75             3   Overweight   \n",
            "370                 9                       75             3   Overweight   \n",
            "371                 9                       75             3   Overweight   \n",
            "372                 9                       75             3   Overweight   \n",
            "373                 9                       75             3   Overweight   \n",
            "\n",
            "    Blood Pressure  Heart Rate  Daily Steps Sleep Disorder  \n",
            "0           126/83          77         4200            NaN  \n",
            "1           125/80          75        10000            NaN  \n",
            "2           125/80          75        10000            NaN  \n",
            "3           140/90          85         3000    Sleep Apnea  \n",
            "4           140/90          85         3000    Sleep Apnea  \n",
            "..             ...         ...          ...            ...  \n",
            "369         140/95          68         7000    Sleep Apnea  \n",
            "370         140/95          68         7000    Sleep Apnea  \n",
            "371         140/95          68         7000    Sleep Apnea  \n",
            "372         140/95          68         7000    Sleep Apnea  \n",
            "373         140/95          68         7000    Sleep Apnea  \n",
            "\n",
            "[374 rows x 13 columns]\n"
          ]
        }
      ],
      "source": [
        "d=pd.read_csv('/content/Sleep_health_and_lifestyle_dataset (1).csv')\n",
        "print(d)\n",
        "d=d.fillna(0)"
      ]
    },
    {
      "cell_type": "code",
      "source": [
        "y={\"Sleep Apnea\":1}"
      ],
      "metadata": {
        "id": "cw05E79ezsLG"
      },
      "execution_count": null,
      "outputs": []
    },
    {
      "cell_type": "code",
      "source": [
        "y={\"Insomina\":2}"
      ],
      "metadata": {
        "id": "-OY5ixy-z4v4"
      },
      "execution_count": null,
      "outputs": []
    },
    {
      "cell_type": "code",
      "source": [
        "y=[\"Sleep Disorder\"]\n",
        "print(y)"
      ],
      "metadata": {
        "id": "bYJ0NOvi0fIr",
        "colab": {
          "base_uri": "https://localhost:8080/"
        },
        "outputId": "44e6026c-08aa-4fae-b7c9-7eec0425e6a2"
      },
      "execution_count": null,
      "outputs": [
        {
          "output_type": "stream",
          "name": "stdout",
          "text": [
            "['Sleep Disorder']\n"
          ]
        }
      ]
    },
    {
      "cell_type": "code",
      "execution_count": null,
      "metadata": {
        "id": "rCXqR1Gb3T0p",
        "colab": {
          "base_uri": "https://localhost:8080/",
          "height": 458
        },
        "outputId": "1ca88933-52d7-4836-9f63-d33bbec72fd3"
      },
      "outputs": [
        {
          "output_type": "execute_result",
          "data": {
            "text/plain": [
              "     Person ID  Gender    Age  Occupation  Sleep Duration  Quality of Sleep  \\\n",
              "0        False   False  False       False           False             False   \n",
              "1        False   False  False       False           False             False   \n",
              "2        False   False  False       False           False             False   \n",
              "3        False   False  False       False           False             False   \n",
              "4        False   False  False       False           False             False   \n",
              "..         ...     ...    ...         ...             ...               ...   \n",
              "369      False   False  False       False           False             False   \n",
              "370      False   False  False       False           False             False   \n",
              "371      False   False  False       False           False             False   \n",
              "372      False   False  False       False           False             False   \n",
              "373      False   False  False       False           False             False   \n",
              "\n",
              "     Physical Activity Level  Stress Level  BMI Category  Blood Pressure  \\\n",
              "0                      False         False         False           False   \n",
              "1                      False         False         False           False   \n",
              "2                      False         False         False           False   \n",
              "3                      False         False         False           False   \n",
              "4                      False         False         False           False   \n",
              "..                       ...           ...           ...             ...   \n",
              "369                    False         False         False           False   \n",
              "370                    False         False         False           False   \n",
              "371                    False         False         False           False   \n",
              "372                    False         False         False           False   \n",
              "373                    False         False         False           False   \n",
              "\n",
              "     Heart Rate  Daily Steps  Sleep Disorder  \n",
              "0         False        False           False  \n",
              "1         False        False           False  \n",
              "2         False        False           False  \n",
              "3         False        False           False  \n",
              "4         False        False           False  \n",
              "..          ...          ...             ...  \n",
              "369       False        False           False  \n",
              "370       False        False           False  \n",
              "371       False        False           False  \n",
              "372       False        False           False  \n",
              "373       False        False           False  \n",
              "\n",
              "[374 rows x 13 columns]"
            ],
            "text/html": [
              "\n",
              "  <div id=\"df-0f1b360f-d2ea-4eec-859b-b9ff9b20584c\" class=\"colab-df-container\">\n",
              "    <div>\n",
              "<style scoped>\n",
              "    .dataframe tbody tr th:only-of-type {\n",
              "        vertical-align: middle;\n",
              "    }\n",
              "\n",
              "    .dataframe tbody tr th {\n",
              "        vertical-align: top;\n",
              "    }\n",
              "\n",
              "    .dataframe thead th {\n",
              "        text-align: right;\n",
              "    }\n",
              "</style>\n",
              "<table border=\"1\" class=\"dataframe\">\n",
              "  <thead>\n",
              "    <tr style=\"text-align: right;\">\n",
              "      <th></th>\n",
              "      <th>Person ID</th>\n",
              "      <th>Gender</th>\n",
              "      <th>Age</th>\n",
              "      <th>Occupation</th>\n",
              "      <th>Sleep Duration</th>\n",
              "      <th>Quality of Sleep</th>\n",
              "      <th>Physical Activity Level</th>\n",
              "      <th>Stress Level</th>\n",
              "      <th>BMI Category</th>\n",
              "      <th>Blood Pressure</th>\n",
              "      <th>Heart Rate</th>\n",
              "      <th>Daily Steps</th>\n",
              "      <th>Sleep Disorder</th>\n",
              "    </tr>\n",
              "  </thead>\n",
              "  <tbody>\n",
              "    <tr>\n",
              "      <th>0</th>\n",
              "      <td>False</td>\n",
              "      <td>False</td>\n",
              "      <td>False</td>\n",
              "      <td>False</td>\n",
              "      <td>False</td>\n",
              "      <td>False</td>\n",
              "      <td>False</td>\n",
              "      <td>False</td>\n",
              "      <td>False</td>\n",
              "      <td>False</td>\n",
              "      <td>False</td>\n",
              "      <td>False</td>\n",
              "      <td>False</td>\n",
              "    </tr>\n",
              "    <tr>\n",
              "      <th>1</th>\n",
              "      <td>False</td>\n",
              "      <td>False</td>\n",
              "      <td>False</td>\n",
              "      <td>False</td>\n",
              "      <td>False</td>\n",
              "      <td>False</td>\n",
              "      <td>False</td>\n",
              "      <td>False</td>\n",
              "      <td>False</td>\n",
              "      <td>False</td>\n",
              "      <td>False</td>\n",
              "      <td>False</td>\n",
              "      <td>False</td>\n",
              "    </tr>\n",
              "    <tr>\n",
              "      <th>2</th>\n",
              "      <td>False</td>\n",
              "      <td>False</td>\n",
              "      <td>False</td>\n",
              "      <td>False</td>\n",
              "      <td>False</td>\n",
              "      <td>False</td>\n",
              "      <td>False</td>\n",
              "      <td>False</td>\n",
              "      <td>False</td>\n",
              "      <td>False</td>\n",
              "      <td>False</td>\n",
              "      <td>False</td>\n",
              "      <td>False</td>\n",
              "    </tr>\n",
              "    <tr>\n",
              "      <th>3</th>\n",
              "      <td>False</td>\n",
              "      <td>False</td>\n",
              "      <td>False</td>\n",
              "      <td>False</td>\n",
              "      <td>False</td>\n",
              "      <td>False</td>\n",
              "      <td>False</td>\n",
              "      <td>False</td>\n",
              "      <td>False</td>\n",
              "      <td>False</td>\n",
              "      <td>False</td>\n",
              "      <td>False</td>\n",
              "      <td>False</td>\n",
              "    </tr>\n",
              "    <tr>\n",
              "      <th>4</th>\n",
              "      <td>False</td>\n",
              "      <td>False</td>\n",
              "      <td>False</td>\n",
              "      <td>False</td>\n",
              "      <td>False</td>\n",
              "      <td>False</td>\n",
              "      <td>False</td>\n",
              "      <td>False</td>\n",
              "      <td>False</td>\n",
              "      <td>False</td>\n",
              "      <td>False</td>\n",
              "      <td>False</td>\n",
              "      <td>False</td>\n",
              "    </tr>\n",
              "    <tr>\n",
              "      <th>...</th>\n",
              "      <td>...</td>\n",
              "      <td>...</td>\n",
              "      <td>...</td>\n",
              "      <td>...</td>\n",
              "      <td>...</td>\n",
              "      <td>...</td>\n",
              "      <td>...</td>\n",
              "      <td>...</td>\n",
              "      <td>...</td>\n",
              "      <td>...</td>\n",
              "      <td>...</td>\n",
              "      <td>...</td>\n",
              "      <td>...</td>\n",
              "    </tr>\n",
              "    <tr>\n",
              "      <th>369</th>\n",
              "      <td>False</td>\n",
              "      <td>False</td>\n",
              "      <td>False</td>\n",
              "      <td>False</td>\n",
              "      <td>False</td>\n",
              "      <td>False</td>\n",
              "      <td>False</td>\n",
              "      <td>False</td>\n",
              "      <td>False</td>\n",
              "      <td>False</td>\n",
              "      <td>False</td>\n",
              "      <td>False</td>\n",
              "      <td>False</td>\n",
              "    </tr>\n",
              "    <tr>\n",
              "      <th>370</th>\n",
              "      <td>False</td>\n",
              "      <td>False</td>\n",
              "      <td>False</td>\n",
              "      <td>False</td>\n",
              "      <td>False</td>\n",
              "      <td>False</td>\n",
              "      <td>False</td>\n",
              "      <td>False</td>\n",
              "      <td>False</td>\n",
              "      <td>False</td>\n",
              "      <td>False</td>\n",
              "      <td>False</td>\n",
              "      <td>False</td>\n",
              "    </tr>\n",
              "    <tr>\n",
              "      <th>371</th>\n",
              "      <td>False</td>\n",
              "      <td>False</td>\n",
              "      <td>False</td>\n",
              "      <td>False</td>\n",
              "      <td>False</td>\n",
              "      <td>False</td>\n",
              "      <td>False</td>\n",
              "      <td>False</td>\n",
              "      <td>False</td>\n",
              "      <td>False</td>\n",
              "      <td>False</td>\n",
              "      <td>False</td>\n",
              "      <td>False</td>\n",
              "    </tr>\n",
              "    <tr>\n",
              "      <th>372</th>\n",
              "      <td>False</td>\n",
              "      <td>False</td>\n",
              "      <td>False</td>\n",
              "      <td>False</td>\n",
              "      <td>False</td>\n",
              "      <td>False</td>\n",
              "      <td>False</td>\n",
              "      <td>False</td>\n",
              "      <td>False</td>\n",
              "      <td>False</td>\n",
              "      <td>False</td>\n",
              "      <td>False</td>\n",
              "      <td>False</td>\n",
              "    </tr>\n",
              "    <tr>\n",
              "      <th>373</th>\n",
              "      <td>False</td>\n",
              "      <td>False</td>\n",
              "      <td>False</td>\n",
              "      <td>False</td>\n",
              "      <td>False</td>\n",
              "      <td>False</td>\n",
              "      <td>False</td>\n",
              "      <td>False</td>\n",
              "      <td>False</td>\n",
              "      <td>False</td>\n",
              "      <td>False</td>\n",
              "      <td>False</td>\n",
              "      <td>False</td>\n",
              "    </tr>\n",
              "  </tbody>\n",
              "</table>\n",
              "<p>374 rows × 13 columns</p>\n",
              "</div>\n",
              "    <div class=\"colab-df-buttons\">\n",
              "\n",
              "  <div class=\"colab-df-container\">\n",
              "    <button class=\"colab-df-convert\" onclick=\"convertToInteractive('df-0f1b360f-d2ea-4eec-859b-b9ff9b20584c')\"\n",
              "            title=\"Convert this dataframe to an interactive table.\"\n",
              "            style=\"display:none;\">\n",
              "\n",
              "  <svg xmlns=\"http://www.w3.org/2000/svg\" height=\"24px\" viewBox=\"0 -960 960 960\">\n",
              "    <path d=\"M120-120v-720h720v720H120Zm60-500h600v-160H180v160Zm220 220h160v-160H400v160Zm0 220h160v-160H400v160ZM180-400h160v-160H180v160Zm440 0h160v-160H620v160ZM180-180h160v-160H180v160Zm440 0h160v-160H620v160Z\"/>\n",
              "  </svg>\n",
              "    </button>\n",
              "\n",
              "  <style>\n",
              "    .colab-df-container {\n",
              "      display:flex;\n",
              "      gap: 12px;\n",
              "    }\n",
              "\n",
              "    .colab-df-convert {\n",
              "      background-color: #E8F0FE;\n",
              "      border: none;\n",
              "      border-radius: 50%;\n",
              "      cursor: pointer;\n",
              "      display: none;\n",
              "      fill: #1967D2;\n",
              "      height: 32px;\n",
              "      padding: 0 0 0 0;\n",
              "      width: 32px;\n",
              "    }\n",
              "\n",
              "    .colab-df-convert:hover {\n",
              "      background-color: #E2EBFA;\n",
              "      box-shadow: 0px 1px 2px rgba(60, 64, 67, 0.3), 0px 1px 3px 1px rgba(60, 64, 67, 0.15);\n",
              "      fill: #174EA6;\n",
              "    }\n",
              "\n",
              "    .colab-df-buttons div {\n",
              "      margin-bottom: 4px;\n",
              "    }\n",
              "\n",
              "    [theme=dark] .colab-df-convert {\n",
              "      background-color: #3B4455;\n",
              "      fill: #D2E3FC;\n",
              "    }\n",
              "\n",
              "    [theme=dark] .colab-df-convert:hover {\n",
              "      background-color: #434B5C;\n",
              "      box-shadow: 0px 1px 3px 1px rgba(0, 0, 0, 0.15);\n",
              "      filter: drop-shadow(0px 1px 2px rgba(0, 0, 0, 0.3));\n",
              "      fill: #FFFFFF;\n",
              "    }\n",
              "  </style>\n",
              "\n",
              "    <script>\n",
              "      const buttonEl =\n",
              "        document.querySelector('#df-0f1b360f-d2ea-4eec-859b-b9ff9b20584c button.colab-df-convert');\n",
              "      buttonEl.style.display =\n",
              "        google.colab.kernel.accessAllowed ? 'block' : 'none';\n",
              "\n",
              "      async function convertToInteractive(key) {\n",
              "        const element = document.querySelector('#df-0f1b360f-d2ea-4eec-859b-b9ff9b20584c');\n",
              "        const dataTable =\n",
              "          await google.colab.kernel.invokeFunction('convertToInteractive',\n",
              "                                                    [key], {});\n",
              "        if (!dataTable) return;\n",
              "\n",
              "        const docLinkHtml = 'Like what you see? Visit the ' +\n",
              "          '<a target=\"_blank\" href=https://colab.research.google.com/notebooks/data_table.ipynb>data table notebook</a>'\n",
              "          + ' to learn more about interactive tables.';\n",
              "        element.innerHTML = '';\n",
              "        dataTable['output_type'] = 'display_data';\n",
              "        await google.colab.output.renderOutput(dataTable, element);\n",
              "        const docLink = document.createElement('div');\n",
              "        docLink.innerHTML = docLinkHtml;\n",
              "        element.appendChild(docLink);\n",
              "      }\n",
              "    </script>\n",
              "  </div>\n",
              "\n",
              "\n",
              "<div id=\"df-dd68b219-0df7-4f7a-8f6f-af8000b5a1e7\">\n",
              "  <button class=\"colab-df-quickchart\" onclick=\"quickchart('df-dd68b219-0df7-4f7a-8f6f-af8000b5a1e7')\"\n",
              "            title=\"Suggest charts\"\n",
              "            style=\"display:none;\">\n",
              "\n",
              "<svg xmlns=\"http://www.w3.org/2000/svg\" height=\"24px\"viewBox=\"0 0 24 24\"\n",
              "     width=\"24px\">\n",
              "    <g>\n",
              "        <path d=\"M19 3H5c-1.1 0-2 .9-2 2v14c0 1.1.9 2 2 2h14c1.1 0 2-.9 2-2V5c0-1.1-.9-2-2-2zM9 17H7v-7h2v7zm4 0h-2V7h2v10zm4 0h-2v-4h2v4z\"/>\n",
              "    </g>\n",
              "</svg>\n",
              "  </button>\n",
              "\n",
              "<style>\n",
              "  .colab-df-quickchart {\n",
              "      --bg-color: #E8F0FE;\n",
              "      --fill-color: #1967D2;\n",
              "      --hover-bg-color: #E2EBFA;\n",
              "      --hover-fill-color: #174EA6;\n",
              "      --disabled-fill-color: #AAA;\n",
              "      --disabled-bg-color: #DDD;\n",
              "  }\n",
              "\n",
              "  [theme=dark] .colab-df-quickchart {\n",
              "      --bg-color: #3B4455;\n",
              "      --fill-color: #D2E3FC;\n",
              "      --hover-bg-color: #434B5C;\n",
              "      --hover-fill-color: #FFFFFF;\n",
              "      --disabled-bg-color: #3B4455;\n",
              "      --disabled-fill-color: #666;\n",
              "  }\n",
              "\n",
              "  .colab-df-quickchart {\n",
              "    background-color: var(--bg-color);\n",
              "    border: none;\n",
              "    border-radius: 50%;\n",
              "    cursor: pointer;\n",
              "    display: none;\n",
              "    fill: var(--fill-color);\n",
              "    height: 32px;\n",
              "    padding: 0;\n",
              "    width: 32px;\n",
              "  }\n",
              "\n",
              "  .colab-df-quickchart:hover {\n",
              "    background-color: var(--hover-bg-color);\n",
              "    box-shadow: 0 1px 2px rgba(60, 64, 67, 0.3), 0 1px 3px 1px rgba(60, 64, 67, 0.15);\n",
              "    fill: var(--button-hover-fill-color);\n",
              "  }\n",
              "\n",
              "  .colab-df-quickchart-complete:disabled,\n",
              "  .colab-df-quickchart-complete:disabled:hover {\n",
              "    background-color: var(--disabled-bg-color);\n",
              "    fill: var(--disabled-fill-color);\n",
              "    box-shadow: none;\n",
              "  }\n",
              "\n",
              "  .colab-df-spinner {\n",
              "    border: 2px solid var(--fill-color);\n",
              "    border-color: transparent;\n",
              "    border-bottom-color: var(--fill-color);\n",
              "    animation:\n",
              "      spin 1s steps(1) infinite;\n",
              "  }\n",
              "\n",
              "  @keyframes spin {\n",
              "    0% {\n",
              "      border-color: transparent;\n",
              "      border-bottom-color: var(--fill-color);\n",
              "      border-left-color: var(--fill-color);\n",
              "    }\n",
              "    20% {\n",
              "      border-color: transparent;\n",
              "      border-left-color: var(--fill-color);\n",
              "      border-top-color: var(--fill-color);\n",
              "    }\n",
              "    30% {\n",
              "      border-color: transparent;\n",
              "      border-left-color: var(--fill-color);\n",
              "      border-top-color: var(--fill-color);\n",
              "      border-right-color: var(--fill-color);\n",
              "    }\n",
              "    40% {\n",
              "      border-color: transparent;\n",
              "      border-right-color: var(--fill-color);\n",
              "      border-top-color: var(--fill-color);\n",
              "    }\n",
              "    60% {\n",
              "      border-color: transparent;\n",
              "      border-right-color: var(--fill-color);\n",
              "    }\n",
              "    80% {\n",
              "      border-color: transparent;\n",
              "      border-right-color: var(--fill-color);\n",
              "      border-bottom-color: var(--fill-color);\n",
              "    }\n",
              "    90% {\n",
              "      border-color: transparent;\n",
              "      border-bottom-color: var(--fill-color);\n",
              "    }\n",
              "  }\n",
              "</style>\n",
              "\n",
              "  <script>\n",
              "    async function quickchart(key) {\n",
              "      const quickchartButtonEl =\n",
              "        document.querySelector('#' + key + ' button');\n",
              "      quickchartButtonEl.disabled = true;  // To prevent multiple clicks.\n",
              "      quickchartButtonEl.classList.add('colab-df-spinner');\n",
              "      try {\n",
              "        const charts = await google.colab.kernel.invokeFunction(\n",
              "            'suggestCharts', [key], {});\n",
              "      } catch (error) {\n",
              "        console.error('Error during call to suggestCharts:', error);\n",
              "      }\n",
              "      quickchartButtonEl.classList.remove('colab-df-spinner');\n",
              "      quickchartButtonEl.classList.add('colab-df-quickchart-complete');\n",
              "    }\n",
              "    (() => {\n",
              "      let quickchartButtonEl =\n",
              "        document.querySelector('#df-dd68b219-0df7-4f7a-8f6f-af8000b5a1e7 button');\n",
              "      quickchartButtonEl.style.display =\n",
              "        google.colab.kernel.accessAllowed ? 'block' : 'none';\n",
              "    })();\n",
              "  </script>\n",
              "</div>\n",
              "\n",
              "    </div>\n",
              "  </div>\n"
            ],
            "application/vnd.google.colaboratory.intrinsic+json": {
              "type": "dataframe",
              "summary": "{\n  \"name\": \"d\",\n  \"rows\": 374,\n  \"fields\": [\n    {\n      \"column\": \"Person ID\",\n      \"properties\": {\n        \"dtype\": \"boolean\",\n        \"num_unique_values\": 1,\n        \"samples\": [\n          false\n        ],\n        \"semantic_type\": \"\",\n        \"description\": \"\"\n      }\n    },\n    {\n      \"column\": \"Gender\",\n      \"properties\": {\n        \"dtype\": \"boolean\",\n        \"num_unique_values\": 1,\n        \"samples\": [\n          false\n        ],\n        \"semantic_type\": \"\",\n        \"description\": \"\"\n      }\n    },\n    {\n      \"column\": \"Age\",\n      \"properties\": {\n        \"dtype\": \"boolean\",\n        \"num_unique_values\": 1,\n        \"samples\": [\n          false\n        ],\n        \"semantic_type\": \"\",\n        \"description\": \"\"\n      }\n    },\n    {\n      \"column\": \"Occupation\",\n      \"properties\": {\n        \"dtype\": \"boolean\",\n        \"num_unique_values\": 1,\n        \"samples\": [\n          false\n        ],\n        \"semantic_type\": \"\",\n        \"description\": \"\"\n      }\n    },\n    {\n      \"column\": \"Sleep Duration\",\n      \"properties\": {\n        \"dtype\": \"boolean\",\n        \"num_unique_values\": 1,\n        \"samples\": [\n          false\n        ],\n        \"semantic_type\": \"\",\n        \"description\": \"\"\n      }\n    },\n    {\n      \"column\": \"Quality of Sleep\",\n      \"properties\": {\n        \"dtype\": \"boolean\",\n        \"num_unique_values\": 1,\n        \"samples\": [\n          false\n        ],\n        \"semantic_type\": \"\",\n        \"description\": \"\"\n      }\n    },\n    {\n      \"column\": \"Physical Activity Level\",\n      \"properties\": {\n        \"dtype\": \"boolean\",\n        \"num_unique_values\": 1,\n        \"samples\": [\n          false\n        ],\n        \"semantic_type\": \"\",\n        \"description\": \"\"\n      }\n    },\n    {\n      \"column\": \"Stress Level\",\n      \"properties\": {\n        \"dtype\": \"boolean\",\n        \"num_unique_values\": 1,\n        \"samples\": [\n          false\n        ],\n        \"semantic_type\": \"\",\n        \"description\": \"\"\n      }\n    },\n    {\n      \"column\": \"BMI Category\",\n      \"properties\": {\n        \"dtype\": \"boolean\",\n        \"num_unique_values\": 1,\n        \"samples\": [\n          false\n        ],\n        \"semantic_type\": \"\",\n        \"description\": \"\"\n      }\n    },\n    {\n      \"column\": \"Blood Pressure\",\n      \"properties\": {\n        \"dtype\": \"boolean\",\n        \"num_unique_values\": 1,\n        \"samples\": [\n          false\n        ],\n        \"semantic_type\": \"\",\n        \"description\": \"\"\n      }\n    },\n    {\n      \"column\": \"Heart Rate\",\n      \"properties\": {\n        \"dtype\": \"boolean\",\n        \"num_unique_values\": 1,\n        \"samples\": [\n          false\n        ],\n        \"semantic_type\": \"\",\n        \"description\": \"\"\n      }\n    },\n    {\n      \"column\": \"Daily Steps\",\n      \"properties\": {\n        \"dtype\": \"boolean\",\n        \"num_unique_values\": 1,\n        \"samples\": [\n          false\n        ],\n        \"semantic_type\": \"\",\n        \"description\": \"\"\n      }\n    },\n    {\n      \"column\": \"Sleep Disorder\",\n      \"properties\": {\n        \"dtype\": \"boolean\",\n        \"num_unique_values\": 1,\n        \"samples\": [\n          false\n        ],\n        \"semantic_type\": \"\",\n        \"description\": \"\"\n      }\n    }\n  ]\n}"
            }
          },
          "metadata": {},
          "execution_count": 85
        }
      ],
      "source": [
        "d.isnull()"
      ]
    },
    {
      "cell_type": "code",
      "execution_count": null,
      "metadata": {
        "id": "aM02Tf3q58qP",
        "colab": {
          "base_uri": "https://localhost:8080/"
        },
        "outputId": "ef6b6544-3850-4e66-e29e-7592b5b45787"
      },
      "outputs": [
        {
          "output_type": "execute_result",
          "data": {
            "text/plain": [
              "(374, 13)"
            ]
          },
          "metadata": {},
          "execution_count": 86
        }
      ],
      "source": [
        "d.shape"
      ]
    },
    {
      "cell_type": "code",
      "execution_count": null,
      "metadata": {
        "id": "nlL7t01dhiMt",
        "colab": {
          "base_uri": "https://localhost:8080/"
        },
        "outputId": "ed706b44-c623-46ac-abae-609b559663c3"
      },
      "outputs": [
        {
          "output_type": "stream",
          "name": "stdout",
          "text": [
            "0                0\n",
            "1                0\n",
            "2                0\n",
            "3      Sleep Apnea\n",
            "4      Sleep Apnea\n",
            "          ...     \n",
            "369    Sleep Apnea\n",
            "370    Sleep Apnea\n",
            "371    Sleep Apnea\n",
            "372    Sleep Apnea\n",
            "373    Sleep Apnea\n",
            "Name: Sleep Disorder, Length: 374, dtype: object\n"
          ]
        }
      ],
      "source": [
        "y = d['Sleep Disorder']\n",
        "print(y)"
      ]
    },
    {
      "cell_type": "code",
      "execution_count": null,
      "metadata": {
        "id": "ZFPbFIoxiB9E",
        "colab": {
          "base_uri": "https://localhost:8080/"
        },
        "outputId": "00e72052-6988-4719-dfdc-2ea7d6104ef7"
      },
      "outputs": [
        {
          "output_type": "stream",
          "name": "stdout",
          "text": [
            "     Person ID  Gender  Age            Occupation  Sleep Duration  \\\n",
            "0            1    Male   27     Software Engineer             6.1   \n",
            "1            2    Male   28                Doctor             6.2   \n",
            "2            3    Male   28                Doctor             6.2   \n",
            "3            4    Male   28  Sales Representative             5.9   \n",
            "4            5    Male   28  Sales Representative             5.9   \n",
            "..         ...     ...  ...                   ...             ...   \n",
            "369        370  Female   59                 Nurse             8.1   \n",
            "370        371  Female   59                 Nurse             8.0   \n",
            "371        372  Female   59                 Nurse             8.1   \n",
            "372        373  Female   59                 Nurse             8.1   \n",
            "373        374  Female   59                 Nurse             8.1   \n",
            "\n",
            "     Quality of Sleep  Physical Activity Level  Stress Level BMI Category  \\\n",
            "0                   6                       42             6   Overweight   \n",
            "1                   6                       60             8       Normal   \n",
            "2                   6                       60             8       Normal   \n",
            "3                   4                       30             8        Obese   \n",
            "4                   4                       30             8        Obese   \n",
            "..                ...                      ...           ...          ...   \n",
            "369                 9                       75             3   Overweight   \n",
            "370                 9                       75             3   Overweight   \n",
            "371                 9                       75             3   Overweight   \n",
            "372                 9                       75             3   Overweight   \n",
            "373                 9                       75             3   Overweight   \n",
            "\n",
            "    Blood Pressure  Heart Rate  Daily Steps  \n",
            "0           126/83          77         4200  \n",
            "1           125/80          75        10000  \n",
            "2           125/80          75        10000  \n",
            "3           140/90          85         3000  \n",
            "4           140/90          85         3000  \n",
            "..             ...         ...          ...  \n",
            "369         140/95          68         7000  \n",
            "370         140/95          68         7000  \n",
            "371         140/95          68         7000  \n",
            "372         140/95          68         7000  \n",
            "373         140/95          68         7000  \n",
            "\n",
            "[374 rows x 12 columns]\n"
          ]
        }
      ],
      "source": [
        "x = d.drop('Sleep Disorder', axis=1)\n",
        "print(x)"
      ]
    },
    {
      "cell_type": "code",
      "source": [
        "from sklearn.preprocessing import LabelEncoder\n",
        "le=LabelEncoder()\n",
        "x['Gender']=le.fit_transform(x['Gender'])\n",
        "x['Age']=le.fit_transform(x['Age'])\n",
        "x['Occupation']=le.fit_transform(x['Occupation'])\n",
        "y=y.astype(str)\n",
        "y = le.fit_transform(y)\n",
        "print(x)\n",
        "print(y)"
      ],
      "metadata": {
        "id": "mndp4zmvMjCv",
        "colab": {
          "base_uri": "https://localhost:8080/"
        },
        "outputId": "1b8197df-8179-4c05-d2c1-49999b10f158"
      },
      "execution_count": null,
      "outputs": [
        {
          "output_type": "stream",
          "name": "stdout",
          "text": [
            "     Person ID  Gender  Age  Occupation  Sleep Duration  Quality of Sleep  \\\n",
            "0            1       1    0           9             6.1                 6   \n",
            "1            2       1    1           1             6.2                 6   \n",
            "2            3       1    1           1             6.2                 6   \n",
            "3            4       1    1           6             5.9                 4   \n",
            "4            5       1    1           6             5.9                 4   \n",
            "..         ...     ...  ...         ...             ...               ...   \n",
            "369        370       0   30           5             8.1                 9   \n",
            "370        371       0   30           5             8.0                 9   \n",
            "371        372       0   30           5             8.1                 9   \n",
            "372        373       0   30           5             8.1                 9   \n",
            "373        374       0   30           5             8.1                 9   \n",
            "\n",
            "     Physical Activity Level  Stress Level BMI Category Blood Pressure  \\\n",
            "0                         42             6   Overweight         126/83   \n",
            "1                         60             8       Normal         125/80   \n",
            "2                         60             8       Normal         125/80   \n",
            "3                         30             8        Obese         140/90   \n",
            "4                         30             8        Obese         140/90   \n",
            "..                       ...           ...          ...            ...   \n",
            "369                       75             3   Overweight         140/95   \n",
            "370                       75             3   Overweight         140/95   \n",
            "371                       75             3   Overweight         140/95   \n",
            "372                       75             3   Overweight         140/95   \n",
            "373                       75             3   Overweight         140/95   \n",
            "\n",
            "     Heart Rate  Daily Steps  \n",
            "0            77         4200  \n",
            "1            75        10000  \n",
            "2            75        10000  \n",
            "3            85         3000  \n",
            "4            85         3000  \n",
            "..          ...          ...  \n",
            "369          68         7000  \n",
            "370          68         7000  \n",
            "371          68         7000  \n",
            "372          68         7000  \n",
            "373          68         7000  \n",
            "\n",
            "[374 rows x 12 columns]\n",
            "[0 0 0 2 2 1 1 0 0 0 0 0 0 0 0 0 2 2 1 0 0 0 0 0 0 0 0 0 0 0 2 1 0 0 0 0 0\n",
            " 0 0 0 0 0 0 0 0 0 0 0 0 2 0 0 0 0 0 0 0 0 0 0 0 0 0 0 0 0 0 1 0 0 0 0 0 0\n",
            " 0 0 0 0 0 0 2 2 0 0 0 0 0 0 0 0 0 0 0 2 1 0 0 0 0 0 0 0 0 2 2 1 0 0 0 0 0\n",
            " 0 0 0 0 0 0 0 0 0 0 0 0 0 0 0 0 0 0 0 0 0 0 0 0 0 0 0 0 0 0 0 0 0 2 2 1 1\n",
            " 0 0 0 0 0 0 0 0 0 0 0 0 0 0 0 0 0 1 0 0 0 0 0 0 0 0 0 0 0 1 0 0 0 0 0 0 2\n",
            " 2 1 1 1 1 1 1 1 1 1 1 1 1 1 1 1 1 1 0 0 0 0 0 0 0 0 0 0 0 0 0 0 0 2 2 1 1\n",
            " 1 1 1 1 1 1 1 1 1 1 1 1 1 1 1 1 1 1 1 1 1 1 1 1 1 1 0 0 1 1 1 1 1 1 1 1 1\n",
            " 1 1 0 0 0 1 2 1 0 2 2 2 2 2 2 2 2 2 2 1 0 0 2 2 2 2 2 2 2 2 2 2 2 2 2 2 2\n",
            " 2 2 0 0 0 0 0 2 2 2 1 1 1 1 1 1 0 0 0 1 0 0 0 0 0 0 0 0 0 0 0 0 0 0 0 0 0\n",
            " 0 0 0 0 0 0 2 2 0 0 0 2 2 2 2 2 2 2 2 2 2 2 2 2 2 0 0 2 2 2 2 2 2 2 2 2 2\n",
            " 2 2 2 2]\n"
          ]
        }
      ]
    },
    {
      "source": [
        "numerical_features = x.select_dtypes(include=['number'])\n",
        "categorical_features = x.select_dtypes(exclude=['number'])\n",
        "\n",
        "\n",
        "dd1 = (numerical_features - numerical_features.min()) / (numerical_features.max() - numerical_features.min())\n",
        "\n",
        "\n",
        "dd1 = pd.concat([dd1, categorical_features], axis=1)\n",
        "\n"
      ],
      "cell_type": "code",
      "metadata": {
        "id": "R-4Dzpm8nEZq"
      },
      "execution_count": null,
      "outputs": []
    },
    {
      "cell_type": "code",
      "source": [
        "mapping = {\"Sleep Apnea\": 1, \"Insomina\": 2}\n",
        "y = pd.Series(y)\n",
        "y = y.map(mapping)\n",
        "print(y)"
      ],
      "metadata": {
        "id": "K-iKSrOTapci",
        "colab": {
          "base_uri": "https://localhost:8080/"
        },
        "outputId": "73ac5092-a2c9-4fc7-e834-2bd11fa52aeb"
      },
      "execution_count": null,
      "outputs": [
        {
          "output_type": "stream",
          "name": "stdout",
          "text": [
            "0     NaN\n",
            "1     NaN\n",
            "2     NaN\n",
            "3     NaN\n",
            "4     NaN\n",
            "       ..\n",
            "369   NaN\n",
            "370   NaN\n",
            "371   NaN\n",
            "372   NaN\n",
            "373   NaN\n",
            "Length: 374, dtype: float64\n"
          ]
        }
      ]
    },
    {
      "cell_type": "code",
      "execution_count": null,
      "metadata": {
        "id": "Ny9UUt1jl--N",
        "colab": {
          "base_uri": "https://localhost:8080/"
        },
        "outputId": "09e341b9-4bed-49c3-8f73-ca2afba8568d"
      },
      "outputs": [
        {
          "output_type": "stream",
          "name": "stdout",
          "text": [
            "0                0\n",
            "1                0\n",
            "2                0\n",
            "3      Sleep Apnea\n",
            "4      Sleep Apnea\n",
            "          ...     \n",
            "369    Sleep Apnea\n",
            "370    Sleep Apnea\n",
            "371    Sleep Apnea\n",
            "372    Sleep Apnea\n",
            "373    Sleep Apnea\n",
            "Name: Sleep Disorder, Length: 374, dtype: object\n"
          ]
        }
      ],
      "source": [
        "y=d['Sleep Disorder']\n",
        "print(y)"
      ]
    },
    {
      "cell_type": "code",
      "source": [
        "y.isnull()\n"
      ],
      "metadata": {
        "id": "tL0GTcwZazAZ",
        "colab": {
          "base_uri": "https://localhost:8080/",
          "height": 458
        },
        "outputId": "22296221-7e82-4ef3-86f5-42bb7d47d101"
      },
      "execution_count": null,
      "outputs": [
        {
          "output_type": "execute_result",
          "data": {
            "text/plain": [
              "0      False\n",
              "1      False\n",
              "2      False\n",
              "3      False\n",
              "4      False\n",
              "       ...  \n",
              "369    False\n",
              "370    False\n",
              "371    False\n",
              "372    False\n",
              "373    False\n",
              "Name: Sleep Disorder, Length: 374, dtype: bool"
            ],
            "text/html": [
              "<div>\n",
              "<style scoped>\n",
              "    .dataframe tbody tr th:only-of-type {\n",
              "        vertical-align: middle;\n",
              "    }\n",
              "\n",
              "    .dataframe tbody tr th {\n",
              "        vertical-align: top;\n",
              "    }\n",
              "\n",
              "    .dataframe thead th {\n",
              "        text-align: right;\n",
              "    }\n",
              "</style>\n",
              "<table border=\"1\" class=\"dataframe\">\n",
              "  <thead>\n",
              "    <tr style=\"text-align: right;\">\n",
              "      <th></th>\n",
              "      <th>Sleep Disorder</th>\n",
              "    </tr>\n",
              "  </thead>\n",
              "  <tbody>\n",
              "    <tr>\n",
              "      <th>0</th>\n",
              "      <td>False</td>\n",
              "    </tr>\n",
              "    <tr>\n",
              "      <th>1</th>\n",
              "      <td>False</td>\n",
              "    </tr>\n",
              "    <tr>\n",
              "      <th>2</th>\n",
              "      <td>False</td>\n",
              "    </tr>\n",
              "    <tr>\n",
              "      <th>3</th>\n",
              "      <td>False</td>\n",
              "    </tr>\n",
              "    <tr>\n",
              "      <th>4</th>\n",
              "      <td>False</td>\n",
              "    </tr>\n",
              "    <tr>\n",
              "      <th>...</th>\n",
              "      <td>...</td>\n",
              "    </tr>\n",
              "    <tr>\n",
              "      <th>369</th>\n",
              "      <td>False</td>\n",
              "    </tr>\n",
              "    <tr>\n",
              "      <th>370</th>\n",
              "      <td>False</td>\n",
              "    </tr>\n",
              "    <tr>\n",
              "      <th>371</th>\n",
              "      <td>False</td>\n",
              "    </tr>\n",
              "    <tr>\n",
              "      <th>372</th>\n",
              "      <td>False</td>\n",
              "    </tr>\n",
              "    <tr>\n",
              "      <th>373</th>\n",
              "      <td>False</td>\n",
              "    </tr>\n",
              "  </tbody>\n",
              "</table>\n",
              "<p>374 rows × 1 columns</p>\n",
              "</div><br><label><b>dtype:</b> bool</label>"
            ]
          },
          "metadata": {},
          "execution_count": 93
        }
      ]
    },
    {
      "cell_type": "code",
      "source": [
        "a=y.fillna(1)"
      ],
      "metadata": {
        "id": "SHtZFearbOvQ"
      },
      "execution_count": null,
      "outputs": []
    },
    {
      "cell_type": "code",
      "execution_count": null,
      "metadata": {
        "id": "Jy6p1Ms_mx38"
      },
      "outputs": [],
      "source": [
        "x_train,x_test, y_train,y_test= train_test_split(dd1,a,test_size=0.2,random_state=42)"
      ]
    },
    {
      "cell_type": "code",
      "execution_count": null,
      "metadata": {
        "id": "u4oycqKqnXWe",
        "colab": {
          "base_uri": "https://localhost:8080/"
        },
        "outputId": "5464a63e-89df-47c7-c483-f6f322de1885"
      },
      "outputs": [
        {
          "output_type": "stream",
          "name": "stdout",
          "text": [
            "     Person ID  Gender       Age  Occupation  Sleep Duration  \\\n",
            "192   0.514745     1.0  0.533333         0.7        0.259259   \n",
            "75    0.201072     1.0  0.200000         0.1        0.074074   \n",
            "84    0.225201     1.0  0.266667         0.9        0.629630   \n",
            "362   0.970509     0.0  1.000000         0.5        0.888889   \n",
            "16    0.042895     0.0  0.066667         0.5        0.259259   \n",
            "..         ...     ...       ...         ...             ...   \n",
            "71    0.190349     1.0  0.200000         0.1        0.111111   \n",
            "106   0.284182     0.0  0.333333         0.5        0.111111   \n",
            "270   0.723861     0.0  0.666667         0.5        0.111111   \n",
            "348   0.932976     0.0  0.933333         0.5        0.888889   \n",
            "102   0.273458     0.0  0.300000         1.0        0.518519   \n",
            "\n",
            "     Quality of Sleep  Physical Activity Level  Stress Level  Heart Rate  \\\n",
            "192               0.4                 0.250000           0.8    0.333333   \n",
            "75                0.4                 0.000000           1.0    0.333333   \n",
            "84                0.8                 0.500000           0.4    0.238095   \n",
            "362               1.0                 0.750000           0.0    0.142857   \n",
            "16                0.2                 0.166667           0.8    0.714286   \n",
            "..                ...                      ...           ...         ...   \n",
            "71                0.4                 0.000000           1.0    0.333333   \n",
            "106               0.4                 0.200000           0.6    0.571429   \n",
            "270               0.4                 1.000000           1.0    0.476190   \n",
            "348               1.0                 0.750000           0.0    0.142857   \n",
            "102               0.8                 0.500000           0.2    0.142857   \n",
            "\n",
            "     Daily Steps   BMI Category Blood Pressure  \n",
            "192     0.428571     Overweight         130/85  \n",
            "75      0.285714         Normal         125/80  \n",
            "84      0.714286  Normal Weight         120/80  \n",
            "362     0.571429     Overweight         140/95  \n",
            "16      0.142857  Normal Weight         132/87  \n",
            "..           ...            ...            ...  \n",
            "71      0.285714         Normal         125/80  \n",
            "106     0.171429     Overweight         126/83  \n",
            "270     1.000000     Overweight         140/95  \n",
            "348     0.571429     Overweight         140/95  \n",
            "102     0.571429         Normal         115/75  \n",
            "\n",
            "[299 rows x 12 columns]\n"
          ]
        }
      ],
      "source": [
        "print (x_train)"
      ]
    },
    {
      "cell_type": "code",
      "execution_count": null,
      "metadata": {
        "id": "v7lhowshnuDa",
        "colab": {
          "base_uri": "https://localhost:8080/"
        },
        "outputId": "f67c17b6-f7ca-4cba-a3fb-6a6e529d4f80"
      },
      "outputs": [
        {
          "output_type": "stream",
          "name": "stdout",
          "text": [
            "     Person ID  Gender       Age  Occupation  Sleep Duration  \\\n",
            "329   0.882038     0.0  0.800000         0.2        1.000000   \n",
            "33    0.088472     1.0  0.133333         0.1        0.111111   \n",
            "15    0.040214     1.0  0.066667         0.1        0.074074   \n",
            "325   0.871314     0.0  0.800000         0.2        1.000000   \n",
            "57    0.152815     1.0  0.166667         0.1        0.074074   \n",
            "..         ...     ...       ...         ...             ...   \n",
            "94    0.252011     0.0  0.300000         0.0        0.518519   \n",
            "195   0.522788     1.0  0.533333         0.7        0.259259   \n",
            "312   0.836461     0.0  0.766667         0.2        0.962963   \n",
            "292   0.782842     0.0  0.700000         0.5        0.111111   \n",
            "372   0.997319     0.0  1.000000         0.5        0.851852   \n",
            "\n",
            "     Quality of Sleep  Physical Activity Level  Stress Level  Heart Rate  \\\n",
            "329               1.0                     0.00           0.0    0.000000   \n",
            "33                0.4                     0.00           1.0    0.333333   \n",
            "15                0.4                     0.00           1.0    0.238095   \n",
            "325               1.0                     0.00           0.0    0.000000   \n",
            "57                0.4                     0.00           1.0    0.333333   \n",
            "..                ...                      ...           ...         ...   \n",
            "94                0.8                     0.50           0.2    0.142857   \n",
            "195               0.4                     0.25           0.8    0.333333   \n",
            "312               1.0                     0.00           0.0    0.000000   \n",
            "292               0.4                     1.00           1.0    0.476190   \n",
            "372               1.0                     0.75           0.0    0.142857   \n",
            "\n",
            "     Daily Steps BMI Category Blood Pressure  \n",
            "329     0.285714       Normal         125/80  \n",
            "33      0.285714       Normal         125/80  \n",
            "15      0.714286       Normal         120/80  \n",
            "325     0.285714       Normal         125/80  \n",
            "57      0.285714       Normal         125/80  \n",
            "..           ...          ...            ...  \n",
            "94      0.571429       Normal         115/75  \n",
            "195     0.428571   Overweight         130/85  \n",
            "312     0.285714       Normal         125/80  \n",
            "292     1.000000   Overweight         140/95  \n",
            "372     0.571429   Overweight         140/95  \n",
            "\n",
            "[75 rows x 12 columns]\n"
          ]
        }
      ],
      "source": [
        "print(x_test)"
      ]
    },
    {
      "cell_type": "code",
      "execution_count": null,
      "metadata": {
        "id": "WO34sh9Wn0aL",
        "colab": {
          "base_uri": "https://localhost:8080/"
        },
        "outputId": "fc990bef-3180-471c-d9f9-06bcda937ce7"
      },
      "outputs": [
        {
          "output_type": "stream",
          "name": "stdout",
          "text": [
            "192       Insomnia\n",
            "75               0\n",
            "84               0\n",
            "362    Sleep Apnea\n",
            "16     Sleep Apnea\n",
            "          ...     \n",
            "71               0\n",
            "106              0\n",
            "270    Sleep Apnea\n",
            "348    Sleep Apnea\n",
            "102              0\n",
            "Name: Sleep Disorder, Length: 299, dtype: object\n"
          ]
        }
      ],
      "source": [
        "print(y_train)"
      ]
    },
    {
      "cell_type": "code",
      "execution_count": null,
      "metadata": {
        "id": "Lh5O8j3DoASp",
        "colab": {
          "base_uri": "https://localhost:8080/"
        },
        "outputId": "702d0075-fbf2-4cbe-d64f-28609ee73238"
      },
      "outputs": [
        {
          "output_type": "stream",
          "name": "stdout",
          "text": [
            "329              0\n",
            "33               0\n",
            "15               0\n",
            "325              0\n",
            "57               0\n",
            "          ...     \n",
            "94        Insomnia\n",
            "195       Insomnia\n",
            "312              0\n",
            "292    Sleep Apnea\n",
            "372    Sleep Apnea\n",
            "Name: Sleep Disorder, Length: 75, dtype: object\n"
          ]
        }
      ],
      "source": [
        "print(y_test)"
      ]
    },
    {
      "cell_type": "code",
      "source": [
        "label_encoders = {}\n",
        "categorical_columns = ['Gender', 'Occupation', 'BMI Category', 'Sleep Disorder']\n",
        "\n",
        "for col in categorical_columns:\n",
        "    le = LabelEncoder()\n",
        "    d[col] = le.fit_transform(d[col].astype(str))\n",
        "    label_encoders[col] = le  # Save the encoder if you need to inverse transform later\n",
        "\n",
        "# Separate systolic and diastolic blood pressure as separate features\n",
        "d[['Systolic BP', 'Diastolic BP']] = d['Blood Pressure'].str.split('/', expand=True).astype(float)\n",
        "d.drop(columns=['Blood Pressure'], inplace=True)\n",
        "\n",
        "# Define features and target\n",
        "X = d.drop(columns=['Person ID', 'BMI Category'])  # Drop 'BMI Category' if using it as target\n",
        "y = d['BMI Category']\n",
        "\n",
        "x_train, x_test, y_train, y_test = train_test_split(X, y, test_size=0.2, random_state=42)\n",
        "\n",
        "scaler = StandardScaler()\n",
        "x_train = scaler.fit_transform(x_train)\n",
        "x_test = scaler.transform(x_test)\n",
        "\n",
        "lr = SVC()\n",
        "m = lr.fit(x_train, y_train)\n",
        "\n",
        "print(\"Training Accuracy:\", m.score(x_train, y_train))\n",
        "print(\"Testing Accuracy:\", m.score(x_test, y_test))\n",
        "\n",
        "\n",
        "\n"
      ],
      "metadata": {
        "id": "Z3NIm3MXMoSC",
        "colab": {
          "base_uri": "https://localhost:8080/"
        },
        "outputId": "d06b61cb-0105-4103-9276-79b6347a4e87"
      },
      "execution_count": null,
      "outputs": [
        {
          "output_type": "stream",
          "name": "stdout",
          "text": [
            "Training Accuracy: 0.9632107023411371\n",
            "Testing Accuracy: 0.96\n"
          ]
        }
      ]
    },
    {
      "cell_type": "code",
      "source": [
        "from sklearn.metrics import accuracy_score\n",
        "from sklearn.metrics import confusion_matrix\n",
        "from sklearn.metrics import classification_report"
      ],
      "metadata": {
        "id": "IzREUgQHqzHF"
      },
      "execution_count": null,
      "outputs": []
    },
    {
      "cell_type": "code",
      "source": [
        "yp=m.predict(x_test)\n",
        "print(accuracy_score(y_test,yp))"
      ],
      "metadata": {
        "id": "9bQTrKt7q_fi",
        "colab": {
          "base_uri": "https://localhost:8080/"
        },
        "outputId": "f4b8a272-ccc2-42a6-e71c-acda08bfa114"
      },
      "execution_count": null,
      "outputs": [
        {
          "output_type": "stream",
          "name": "stdout",
          "text": [
            "0.96\n"
          ]
        }
      ]
    },
    {
      "cell_type": "code",
      "source": [
        "print(classification_report(y_test,yp))"
      ],
      "metadata": {
        "id": "_C60DWUirEX6",
        "colab": {
          "base_uri": "https://localhost:8080/"
        },
        "outputId": "1eb9c7b4-c2e8-46b0-82e5-8efc8882fcae"
      },
      "execution_count": null,
      "outputs": [
        {
          "output_type": "stream",
          "name": "stdout",
          "text": [
            "              precision    recall  f1-score   support\n",
            "\n",
            "           0       0.98      1.00      0.99        41\n",
            "           1       0.00      0.00      0.00         2\n",
            "           2       1.00      0.75      0.86         4\n",
            "           3       0.97      1.00      0.98        28\n",
            "\n",
            "    accuracy                           0.96        75\n",
            "   macro avg       0.74      0.69      0.71        75\n",
            "weighted avg       0.95      0.96      0.95        75\n",
            "\n"
          ]
        }
      ]
    },
    {
      "cell_type": "code",
      "source": [
        "print(confusion_matrix(y_test,yp))"
      ],
      "metadata": {
        "id": "IYo5iHzurJg1",
        "colab": {
          "base_uri": "https://localhost:8080/"
        },
        "outputId": "b2aecef3-c872-4709-8cf8-d99ce9968112"
      },
      "execution_count": null,
      "outputs": [
        {
          "output_type": "stream",
          "name": "stdout",
          "text": [
            "[[41  0  0  0]\n",
            " [ 1  0  0  1]\n",
            " [ 0  1  3  0]\n",
            " [ 0  0  0 28]]\n"
          ]
        }
      ]
    },
    {
      "cell_type": "code",
      "source": [
        "## Perceptron Classification"
      ],
      "metadata": {
        "id": "4IwIM1NOrW4J"
      },
      "execution_count": null,
      "outputs": []
    },
    {
      "cell_type": "code",
      "source": [
        "from sklearn.preprocessing import LabelEncoder\n",
        "\n",
        "le = LabelEncoder()\n",
        "y_train_encoded = le.fit_transform(y_train)\n",
        "\n",
        "\n",
        "m = lr1.fit(x_train, y_train_encoded)"
      ],
      "metadata": {
        "id": "uOGLP_2qrp9O"
      },
      "execution_count": null,
      "outputs": []
    },
    {
      "cell_type": "code",
      "source": [
        "from sklearn.linear_model import Perceptron\n",
        "lr1=Perceptron()\n",
        "m=lr1.fit(x_train,y_train)"
      ],
      "metadata": {
        "id": "lHzyrLc8rd8_"
      },
      "execution_count": null,
      "outputs": []
    },
    {
      "cell_type": "code",
      "source": [
        "from sklearn.metrics import accuracy_score\n",
        "from sklearn.metrics import confusion_matrix\n",
        "from sklearn.metrics import classification_report"
      ],
      "metadata": {
        "id": "Wwsyj_l_rjLo"
      },
      "execution_count": null,
      "outputs": []
    },
    {
      "cell_type": "code",
      "source": [
        "yp1=m.predict(x_test)\n",
        "print(accuracy_score(y_test,yp1))"
      ],
      "metadata": {
        "id": "xaKQ7DxdrszT",
        "colab": {
          "base_uri": "https://localhost:8080/"
        },
        "outputId": "fbe01784-6c37-42e5-86ac-997d15101a67"
      },
      "execution_count": null,
      "outputs": [
        {
          "output_type": "stream",
          "name": "stdout",
          "text": [
            "0.9866666666666667\n"
          ]
        }
      ]
    },
    {
      "cell_type": "code",
      "source": [
        "print(confusion_matrix(y_test,yp1))"
      ],
      "metadata": {
        "id": "lHOTVNAmr1CT",
        "colab": {
          "base_uri": "https://localhost:8080/"
        },
        "outputId": "41e37415-0c25-488c-e246-18e8158d68b1"
      },
      "execution_count": null,
      "outputs": [
        {
          "output_type": "stream",
          "name": "stdout",
          "text": [
            "[[41  0  0  0]\n",
            " [ 1  1  0  0]\n",
            " [ 0  0  4  0]\n",
            " [ 0  0  0 28]]\n"
          ]
        }
      ]
    },
    {
      "cell_type": "code",
      "source": [
        "print(classification_report(y_test,yp1))"
      ],
      "metadata": {
        "id": "SnIsI0a2r6hO",
        "colab": {
          "base_uri": "https://localhost:8080/"
        },
        "outputId": "033cc3d3-cc53-4aba-80e2-f473266aa7ba"
      },
      "execution_count": null,
      "outputs": [
        {
          "output_type": "stream",
          "name": "stdout",
          "text": [
            "              precision    recall  f1-score   support\n",
            "\n",
            "           0       0.98      1.00      0.99        41\n",
            "           1       1.00      0.50      0.67         2\n",
            "           2       1.00      1.00      1.00         4\n",
            "           3       1.00      1.00      1.00        28\n",
            "\n",
            "    accuracy                           0.99        75\n",
            "   macro avg       0.99      0.88      0.91        75\n",
            "weighted avg       0.99      0.99      0.98        75\n",
            "\n"
          ]
        }
      ]
    },
    {
      "cell_type": "code",
      "source": [
        "## Logistic Regression"
      ],
      "metadata": {
        "id": "dy-75Ld_r_2c"
      },
      "execution_count": null,
      "outputs": []
    },
    {
      "cell_type": "code",
      "source": [
        "from sklearn.linear_model import LogisticRegression\n",
        "lr2=LogisticRegression(max_iter=1000)\n",
        "m=lr2.fit(x_train,y_train)"
      ],
      "metadata": {
        "id": "h_52qjGssGoX"
      },
      "execution_count": null,
      "outputs": []
    },
    {
      "cell_type": "code",
      "source": [
        "from sklearn.metrics import accuracy_score\n",
        "from sklearn.metrics import confusion_matrix\n",
        "from sklearn.metrics import classification_report"
      ],
      "metadata": {
        "id": "TPno1-_ysM0G"
      },
      "execution_count": null,
      "outputs": []
    },
    {
      "cell_type": "code",
      "source": [
        "yp2=m.predict(x_test)\n",
        "print(accuracy_score(y_test,yp2))"
      ],
      "metadata": {
        "id": "XbMRrFSTsU8a",
        "colab": {
          "base_uri": "https://localhost:8080/"
        },
        "outputId": "cdc451a5-2b8e-4e05-ec77-e955b27213b6"
      },
      "execution_count": null,
      "outputs": [
        {
          "output_type": "stream",
          "name": "stdout",
          "text": [
            "0.96\n"
          ]
        }
      ]
    },
    {
      "cell_type": "code",
      "source": [
        "print(confusion_matrix(y_test,yp2))"
      ],
      "metadata": {
        "id": "GGrfTTYVskfK",
        "colab": {
          "base_uri": "https://localhost:8080/"
        },
        "outputId": "cdb462f4-cee0-4a40-eaae-6beb9d2b5535"
      },
      "execution_count": null,
      "outputs": [
        {
          "output_type": "stream",
          "name": "stdout",
          "text": [
            "[[41  0  0  0]\n",
            " [ 1  0  0  1]\n",
            " [ 0  1  3  0]\n",
            " [ 0  0  0 28]]\n"
          ]
        }
      ]
    },
    {
      "cell_type": "code",
      "source": [
        "print(classification_report(y_test,yp2))"
      ],
      "metadata": {
        "id": "1xuK5LYjsvAW",
        "colab": {
          "base_uri": "https://localhost:8080/"
        },
        "outputId": "b3146107-3a53-4546-ce18-3bb265b68471"
      },
      "execution_count": null,
      "outputs": [
        {
          "output_type": "stream",
          "name": "stdout",
          "text": [
            "              precision    recall  f1-score   support\n",
            "\n",
            "           0       0.98      1.00      0.99        41\n",
            "           1       0.00      0.00      0.00         2\n",
            "           2       1.00      0.75      0.86         4\n",
            "           3       0.97      1.00      0.98        28\n",
            "\n",
            "    accuracy                           0.96        75\n",
            "   macro avg       0.74      0.69      0.71        75\n",
            "weighted avg       0.95      0.96      0.95        75\n",
            "\n"
          ]
        }
      ]
    }
  ],
  "metadata": {
    "colab": {
      "provenance": [],
      "authorship_tag": "ABX9TyPdXnrUKdeR4BJALkDhfj2I",
      "include_colab_link": true
    },
    "kernelspec": {
      "display_name": "Python 3",
      "name": "python3"
    },
    "language_info": {
      "name": "python"
    }
  },
  "nbformat": 4,
  "nbformat_minor": 0
}